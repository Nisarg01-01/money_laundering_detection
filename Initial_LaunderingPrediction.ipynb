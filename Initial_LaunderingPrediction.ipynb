{
 "cells": [
  {
   "cell_type": "code",
   "execution_count": 1,
   "metadata": {},
   "outputs": [],
   "source": [
    "import numpy as np\n",
    "import pandas as pd\n",
    "import matplotlib.pyplot as plt\n",
    "import seaborn as sns"
   ]
  },
  {
   "cell_type": "code",
   "execution_count": null,
   "metadata": {},
   "outputs": [
    {
     "data": {
      "application/vnd.microsoft.datawrangler.viewer.v0+json": {
       "columns": [
        {
         "name": "index",
         "rawType": "int64",
         "type": "integer"
        },
        {
         "name": "Timestamp",
         "rawType": "object",
         "type": "string"
        },
        {
         "name": "From Bank",
         "rawType": "int64",
         "type": "integer"
        },
        {
         "name": "Account",
         "rawType": "object",
         "type": "string"
        },
        {
         "name": "To Bank",
         "rawType": "int64",
         "type": "integer"
        },
        {
         "name": "Account.1",
         "rawType": "object",
         "type": "string"
        },
        {
         "name": "Amount Received",
         "rawType": "float64",
         "type": "float"
        },
        {
         "name": "Receiving Currency",
         "rawType": "object",
         "type": "string"
        },
        {
         "name": "Amount Paid",
         "rawType": "float64",
         "type": "float"
        },
        {
         "name": "Payment Currency",
         "rawType": "object",
         "type": "string"
        },
        {
         "name": "Payment Format",
         "rawType": "object",
         "type": "string"
        },
        {
         "name": "Is Laundering",
         "rawType": "int64",
         "type": "integer"
        }
       ],
       "conversionMethod": "pd.DataFrame",
       "ref": "a8cdaa8b-0a10-446b-8e16-6afc464738f6",
       "rows": [
        [
         "0",
         "2022/09/01 00:17",
         "20",
         "800104D70",
         "20",
         "800104D70",
         "6794.63",
         "US Dollar",
         "6794.63",
         "US Dollar",
         "Reinvestment",
         "0"
        ],
        [
         "1",
         "2022/09/01 00:02",
         "3196",
         "800107150",
         "3196",
         "800107150",
         "7739.29",
         "US Dollar",
         "7739.29",
         "US Dollar",
         "Reinvestment",
         "0"
        ],
        [
         "2",
         "2022/09/01 00:17",
         "1208",
         "80010E430",
         "1208",
         "80010E430",
         "1880.23",
         "US Dollar",
         "1880.23",
         "US Dollar",
         "Reinvestment",
         "0"
        ],
        [
         "3",
         "2022/09/01 00:03",
         "1208",
         "80010E650",
         "20",
         "80010E6F0",
         "73966883.0",
         "US Dollar",
         "73966883.0",
         "US Dollar",
         "Cheque",
         "0"
        ],
        [
         "4",
         "2022/09/01 00:02",
         "1208",
         "80010E650",
         "20",
         "80010EA30",
         "45868454.0",
         "US Dollar",
         "45868454.0",
         "US Dollar",
         "Cheque",
         "0"
        ]
       ],
       "shape": {
        "columns": 11,
        "rows": 5
       }
      },
      "text/html": [
       "<div>\n",
       "<style scoped>\n",
       "    .dataframe tbody tr th:only-of-type {\n",
       "        vertical-align: middle;\n",
       "    }\n",
       "\n",
       "    .dataframe tbody tr th {\n",
       "        vertical-align: top;\n",
       "    }\n",
       "\n",
       "    .dataframe thead th {\n",
       "        text-align: right;\n",
       "    }\n",
       "</style>\n",
       "<table border=\"1\" class=\"dataframe\">\n",
       "  <thead>\n",
       "    <tr style=\"text-align: right;\">\n",
       "      <th></th>\n",
       "      <th>Timestamp</th>\n",
       "      <th>From Bank</th>\n",
       "      <th>Account</th>\n",
       "      <th>To Bank</th>\n",
       "      <th>Account.1</th>\n",
       "      <th>Amount Received</th>\n",
       "      <th>Receiving Currency</th>\n",
       "      <th>Amount Paid</th>\n",
       "      <th>Payment Currency</th>\n",
       "      <th>Payment Format</th>\n",
       "      <th>Is Laundering</th>\n",
       "    </tr>\n",
       "  </thead>\n",
       "  <tbody>\n",
       "    <tr>\n",
       "      <th>0</th>\n",
       "      <td>2022/09/01 00:17</td>\n",
       "      <td>20</td>\n",
       "      <td>800104D70</td>\n",
       "      <td>20</td>\n",
       "      <td>800104D70</td>\n",
       "      <td>6794.63</td>\n",
       "      <td>US Dollar</td>\n",
       "      <td>6794.63</td>\n",
       "      <td>US Dollar</td>\n",
       "      <td>Reinvestment</td>\n",
       "      <td>0</td>\n",
       "    </tr>\n",
       "    <tr>\n",
       "      <th>1</th>\n",
       "      <td>2022/09/01 00:02</td>\n",
       "      <td>3196</td>\n",
       "      <td>800107150</td>\n",
       "      <td>3196</td>\n",
       "      <td>800107150</td>\n",
       "      <td>7739.29</td>\n",
       "      <td>US Dollar</td>\n",
       "      <td>7739.29</td>\n",
       "      <td>US Dollar</td>\n",
       "      <td>Reinvestment</td>\n",
       "      <td>0</td>\n",
       "    </tr>\n",
       "    <tr>\n",
       "      <th>2</th>\n",
       "      <td>2022/09/01 00:17</td>\n",
       "      <td>1208</td>\n",
       "      <td>80010E430</td>\n",
       "      <td>1208</td>\n",
       "      <td>80010E430</td>\n",
       "      <td>1880.23</td>\n",
       "      <td>US Dollar</td>\n",
       "      <td>1880.23</td>\n",
       "      <td>US Dollar</td>\n",
       "      <td>Reinvestment</td>\n",
       "      <td>0</td>\n",
       "    </tr>\n",
       "    <tr>\n",
       "      <th>3</th>\n",
       "      <td>2022/09/01 00:03</td>\n",
       "      <td>1208</td>\n",
       "      <td>80010E650</td>\n",
       "      <td>20</td>\n",
       "      <td>80010E6F0</td>\n",
       "      <td>73966883.00</td>\n",
       "      <td>US Dollar</td>\n",
       "      <td>73966883.00</td>\n",
       "      <td>US Dollar</td>\n",
       "      <td>Cheque</td>\n",
       "      <td>0</td>\n",
       "    </tr>\n",
       "    <tr>\n",
       "      <th>4</th>\n",
       "      <td>2022/09/01 00:02</td>\n",
       "      <td>1208</td>\n",
       "      <td>80010E650</td>\n",
       "      <td>20</td>\n",
       "      <td>80010EA30</td>\n",
       "      <td>45868454.00</td>\n",
       "      <td>US Dollar</td>\n",
       "      <td>45868454.00</td>\n",
       "      <td>US Dollar</td>\n",
       "      <td>Cheque</td>\n",
       "      <td>0</td>\n",
       "    </tr>\n",
       "  </tbody>\n",
       "</table>\n",
       "</div>"
      ],
      "text/plain": [
       "          Timestamp  From Bank    Account  To Bank  Account.1  \\\n",
       "0  2022/09/01 00:17         20  800104D70       20  800104D70   \n",
       "1  2022/09/01 00:02       3196  800107150     3196  800107150   \n",
       "2  2022/09/01 00:17       1208  80010E430     1208  80010E430   \n",
       "3  2022/09/01 00:03       1208  80010E650       20  80010E6F0   \n",
       "4  2022/09/01 00:02       1208  80010E650       20  80010EA30   \n",
       "\n",
       "   Amount Received Receiving Currency  Amount Paid Payment Currency  \\\n",
       "0          6794.63          US Dollar      6794.63        US Dollar   \n",
       "1          7739.29          US Dollar      7739.29        US Dollar   \n",
       "2          1880.23          US Dollar      1880.23        US Dollar   \n",
       "3      73966883.00          US Dollar  73966883.00        US Dollar   \n",
       "4      45868454.00          US Dollar  45868454.00        US Dollar   \n",
       "\n",
       "  Payment Format  Is Laundering  \n",
       "0   Reinvestment              0  \n",
       "1   Reinvestment              0  \n",
       "2   Reinvestment              0  \n",
       "3         Cheque              0  \n",
       "4         Cheque              0  "
      ]
     },
     "execution_count": 2,
     "metadata": {},
     "output_type": "execute_result"
    }
   ],
   "source": [
    "# Load the data\n",
    "path = ''\n",
    "df = pd.read_csv(path + 'HI-Medium_Trans.csv')\n",
    "df.head()"
   ]
  },
  {
   "cell_type": "code",
   "execution_count": 3,
   "metadata": {},
   "outputs": [
    {
     "name": "stdout",
     "output_type": "stream",
     "text": [
      "<class 'pandas.core.frame.DataFrame'>\n",
      "RangeIndex: 31898238 entries, 0 to 31898237\n",
      "Data columns (total 11 columns):\n",
      " #   Column              Dtype  \n",
      "---  ------              -----  \n",
      " 0   Timestamp           object \n",
      " 1   From Bank           int64  \n",
      " 2   Account             object \n",
      " 3   To Bank             int64  \n",
      " 4   Account.1           object \n",
      " 5   Amount Received     float64\n",
      " 6   Receiving Currency  object \n",
      " 7   Amount Paid         float64\n",
      " 8   Payment Currency    object \n",
      " 9   Payment Format      object \n",
      " 10  Is Laundering       int64  \n",
      "dtypes: float64(2), int64(3), object(6)\n",
      "memory usage: 2.6+ GB\n"
     ]
    },
    {
     "data": {
      "text/plain": [
       "Timestamp             0\n",
       "From Bank             0\n",
       "Account               0\n",
       "To Bank               0\n",
       "Account.1             0\n",
       "Amount Received       0\n",
       "Receiving Currency    0\n",
       "Amount Paid           0\n",
       "Payment Currency      0\n",
       "Payment Format        0\n",
       "Is Laundering         0\n",
       "dtype: int64"
      ]
     },
     "execution_count": 3,
     "metadata": {},
     "output_type": "execute_result"
    }
   ],
   "source": [
    "# Check the data types of the columns\n",
    "df.info()\n",
    "\n",
    "# Check the number of missing values in each column\n",
    "df.isnull().sum()"
   ]
  },
  {
   "cell_type": "code",
   "execution_count": null,
   "metadata": {},
   "outputs": [
    {
     "data": {
      "text/plain": [
       "Is Laundering\n",
       "0    31863008\n",
       "1       35230\n",
       "Name: count, dtype: int64"
      ]
     },
     "execution_count": 4,
     "metadata": {},
     "output_type": "execute_result"
    }
   ],
   "source": [
    "# Distribution of the target variable\n",
    "df['Is Laundering'].value_counts()"
   ]
  },
  {
   "cell_type": "code",
   "execution_count": 5,
   "metadata": {},
   "outputs": [
    {
     "data": {
      "text/plain": [
       "0   2022-09-01 00:17:00\n",
       "1   2022-09-01 00:02:00\n",
       "2   2022-09-01 00:17:00\n",
       "3   2022-09-01 00:03:00\n",
       "4   2022-09-01 00:02:00\n",
       "Name: Timestamp, dtype: datetime64[ns]"
      ]
     },
     "execution_count": 5,
     "metadata": {},
     "output_type": "execute_result"
    }
   ],
   "source": [
    "# Converting Timestamp to datetime\n",
    "df['Timestamp'] = pd.to_datetime(df['Timestamp'])\n",
    "df['Timestamp'].head()"
   ]
  },
  {
   "cell_type": "code",
   "execution_count": null,
   "metadata": {},
   "outputs": [
    {
     "data": {
      "text/plain": [
       "Timestamp               26086\n",
       "From Bank              122330\n",
       "Account               2013627\n",
       "To Bank                 62820\n",
       "Account.1             1689925\n",
       "Amount Received       2824359\n",
       "Receiving Currency         15\n",
       "Amount Paid           2850751\n",
       "Payment Currency           15\n",
       "Payment Format              7\n",
       "Is Laundering               2\n",
       "dtype: int64"
      ]
     },
     "execution_count": 6,
     "metadata": {},
     "output_type": "execute_result"
    }
   ],
   "source": [
    "# Unique values in each column\n",
    "df.nunique()"
   ]
  },
  {
   "cell_type": "code",
   "execution_count": null,
   "metadata": {},
   "outputs": [],
   "source": [
    "# Any duplicate rows and which class they belong to\n",
    "df[df.duplicated()]\n",
    "\n",
    "# Drop the duplicate rows\n",
    "df.drop_duplicates(inplace=True)"
   ]
  },
  {
   "cell_type": "code",
   "execution_count": 8,
   "metadata": {},
   "outputs": [
    {
     "name": "stderr",
     "output_type": "stream",
     "text": [
      "C:\\Users\\nisar\\AppData\\Local\\Temp\\ipykernel_9664\\3730821194.py:4: UserWarning: Ignoring `palette` because no `hue` variable has been assigned.\n",
      "  sns.histplot(x='Hour', data=df[df['Is Laundering'] == 1],bins=24, palette='viridis', label='Laundering')\n"
     ]
    },
    {
     "data": {
      "image/png": "[encoded data removed]",
      "text/plain": [
       "<Figure size 1000x600 with 1 Axes>"
      ]
     },
     "metadata": {},
     "output_type": "display_data"
    }
   ],
   "source": [
    "# Plot for which hour of the day has the most transactions \n",
    "df['Hour'] = df['Timestamp'].dt.hour\n",
    "plt.figure(figsize=(10, 6))\n",
    "sns.histplot(x='Hour', data=df[df['Is Laundering'] == 1],bins=24, palette='viridis', label='Laundering')\n",
    "plt.title('Number of transactions per hour')\n",
    "plt.xlabel('Hour of the day')\n",
    "plt.ylabel('Number of transactions')\n",
    "plt.show()"
   ]
  },
  {
   "cell_type": "code",
   "execution_count": 9,
   "metadata": {},
   "outputs": [
    {
     "data": {
      "text/plain": [
       "Is Laundering\n",
       "0    99.889555\n",
       "1     0.110445\n",
       "Name: proportion, dtype: float64"
      ]
     },
     "execution_count": 9,
     "metadata": {},
     "output_type": "execute_result"
    }
   ],
   "source": [
    "# Percentage of transactions that are laundering vs non-laundering\n",
    "df['Is Laundering'].value_counts(normalize=True) * 100"
   ]
  },
  {
   "cell_type": "code",
   "execution_count": 10,
   "metadata": {},
   "outputs": [
    {
     "name": "stderr",
     "output_type": "stream",
     "text": [
      "C:\\Users\\nisar\\AppData\\Local\\Temp\\ipykernel_9664\\3236933162.py:3: FutureWarning: \n",
      "\n",
      "Passing `palette` without assigning `hue` is deprecated and will be removed in v0.14.0. Assign the `x` variable to `hue` and set `legend=False` for the same effect.\n",
      "\n",
      "  sns.countplot(x='Payment Format', data=df[df['Is Laundering'] == 1], palette='viridis')\n"
     ]
    },
    {
     "data": {
      "image/png": "[encoded data removed]",
      "text/plain": [
       "<Figure size 1000x600 with 1 Axes>"
      ]
     },
     "metadata": {},
     "output_type": "display_data"
    }
   ],
   "source": [
    "# Plot payment method vs Is Laundering\n",
    "plt.figure(figsize=(10, 6))\n",
    "sns.countplot(x='Payment Format', data=df[df['Is Laundering'] == 1], palette='viridis')\n",
    "plt.title('Number of transactions by Payment Method')  \n",
    "plt.xlabel('Payment Method')\n",
    "plt.ylabel('Number of transactions')\n",
    "plt.show()"
   ]
  },
  {
   "cell_type": "code",
   "execution_count": 11,
   "metadata": {},
   "outputs": [
    {
     "data": {
      "text/plain": [
       "Is Laundering\n",
       "0    4.363708e+06\n",
       "1    5.311675e+07\n",
       "Name: Amount Paid, dtype: float64"
      ]
     },
     "execution_count": 11,
     "metadata": {},
     "output_type": "execute_result"
    }
   ],
   "source": [
    "# Mean transaction amount for laundering vs non-laundering transactions\n",
    "df.groupby('Is Laundering')['Amount Paid'].mean()"
   ]
  },
  {
   "cell_type": "code",
   "execution_count": 12,
   "metadata": {},
   "outputs": [
    {
     "name": "stderr",
     "output_type": "stream",
     "text": [
      "C:\\Users\\nisar\\AppData\\Local\\Temp\\ipykernel_9664\\1639131924.py:3: FutureWarning: \n",
      "\n",
      "Passing `palette` without assigning `hue` is deprecated and will be removed in v0.14.0. Assign the `x` variable to `hue` and set `legend=False` for the same effect.\n",
      "\n",
      "  sns.countplot(x='Payment Currency', data=df[df['Is Laundering'] == 1], palette='viridis')\n"
     ]
    },
    {
     "data": {
      "image/png": "[encoded data removed]",
      "text/plain": [
       "<Figure size 1000x600 with 1 Axes>"
      ]
     },
     "metadata": {},
     "output_type": "display_data"
    }
   ],
   "source": [
    "# Plot of currency vs Is Laundering\n",
    "plt.figure(figsize=(10, 6))\n",
    "sns.countplot(x='Payment Currency', data=df[df['Is Laundering'] == 1], palette='viridis')\n",
    "plt.title('Number of transactions by Currency')\n",
    "plt.xlabel('Currency')\n",
    "plt.ylabel('Number of transactions')\n",
    "plt.xticks(rotation=45)\n",
    "plt.show()"
   ]
  },
  {
   "cell_type": "code",
   "execution_count": 13,
   "metadata": {},
   "outputs": [],
   "source": [
    "#Undersampling of Is Laundering = 0 Legitimate transactions\n",
    "df_laundering = df[df['Is Laundering'] == 1]\n",
    "df_legitimate = df[df['Is Laundering'] == 0].sample(n=len(df_laundering)*2, random_state=42)\n"
   ]
  },
  {
   "cell_type": "code",
   "execution_count": 26,
   "metadata": {},
   "outputs": [
    {
     "data": {
      "text/plain": [
       "Is Laundering\n",
       "0    70460\n",
       "1    35230\n",
       "Name: count, dtype: int64"
      ]
     },
     "execution_count": 26,
     "metadata": {},
     "output_type": "execute_result"
    }
   ],
   "source": [
    "#Concatenating the two dataframes as per timestamp\n",
    "df_balanced = pd.concat([df_laundering, df_legitimate]).sort_values('Timestamp')\n",
    "df_balanced['Is Laundering'].value_counts()"
   ]
  },
  {
   "cell_type": "code",
   "execution_count": 27,
   "metadata": {},
   "outputs": [
    {
     "data": {
      "text/plain": [
       "Timestamp             25345\n",
       "From Bank              7863\n",
       "Account               80350\n",
       "To Bank                6658\n",
       "Account.1             92514\n",
       "Amount Received       94994\n",
       "Receiving Currency       15\n",
       "Amount Paid           95051\n",
       "Payment Currency         15\n",
       "Payment Format            7\n",
       "Is Laundering             2\n",
       "Hour                     24\n",
       "dtype: int64"
      ]
     },
     "execution_count": 27,
     "metadata": {},
     "output_type": "execute_result"
    }
   ],
   "source": [
    "#Unique values in each column\n",
    "df_balanced.nunique()"
   ]
  },
  {
   "cell_type": "code",
   "execution_count": 29,
   "metadata": {},
   "outputs": [
    {
     "data": {
      "image/png": "[encoded data removed]",
      "text/plain": [
       "<Figure size 1500x600 with 2 Axes>"
      ]
     },
     "metadata": {},
     "output_type": "display_data"
    },
    {
     "name": "stdout",
     "output_type": "stream",
     "text": [
      "Original Shae: (31898218, 12)\n",
      "Balanced Shape: (105690, 12)\n"
     ]
    }
   ],
   "source": [
    "#Plot original vs balanced dataset for Payment Format pie chart for Is Laundering = 1\n",
    "import seaborn as sns\n",
    "plt.figure(figsize=(15, 6))\n",
    "plt.subplot(1, 2, 1)\n",
    "plt.title('Original dataset')\n",
    "sns.set_palette(\"pastel\")\n",
    "df[df['Is Laundering'] == 1]['Payment Format'].value_counts().plot.pie(autopct='%1.1f%%')\n",
    "plt.subplot(1, 2, 2)\n",
    "plt.title('Balanced dataset')\n",
    "sns.set_palette(\"pastel\")\n",
    "df_balanced[df_balanced['Is Laundering'] == 1]['Payment Format'].value_counts().plot.pie(autopct='%1.1f%%')\n",
    "plt.show()\n",
    "\n",
    "print('Original Shae:', df.shape)\n",
    "print('Balanced Shape:', df_balanced.shape)"
   ]
  },
  {
   "cell_type": "code",
   "execution_count": 35,
   "metadata": {},
   "outputs": [
    {
     "data": {
      "text/plain": [
       "Timestamp             0\n",
       "From Bank             0\n",
       "Account               0\n",
       "To Bank               0\n",
       "Account.1             0\n",
       "Amount Received       0\n",
       "Receiving Currency    0\n",
       "Amount Paid           0\n",
       "Payment Currency      0\n",
       "Payment Format        0\n",
       "Is Laundering         0\n",
       "Hour                  0\n",
       "dtype: int64"
      ]
     },
     "execution_count": 35,
     "metadata": {},
     "output_type": "execute_result"
    }
   ],
   "source": [
    "#Any missing values in the balanced dataset\n",
    "df_balanced.isnull().sum()"
   ]
  },
  {
   "cell_type": "code",
   "execution_count": 36,
   "metadata": {},
   "outputs": [
    {
     "name": "stderr",
     "output_type": "stream",
     "text": [
      "C:\\Users\\nisar\\AppData\\Local\\Temp\\ipykernel_9664\\3431033851.py:5: FutureWarning: Downcasting behavior in `replace` is deprecated and will be removed in a future version. To retain the old behavior, explicitly call `result.infer_objects(copy=False)`. To opt-in to the future behavior, set `pd.set_option('future.no_silent_downcasting', True)`\n",
      "  df_encoded = df_encoded.replace({False: 0, True: 1})\n"
     ]
    },
    {
     "data": {
      "application/vnd.microsoft.datawrangler.viewer.v0+json": {
       "columns": [
        {
         "name": "index",
         "rawType": "int64",
         "type": "integer"
        },
        {
         "name": "Timestamp",
         "rawType": "datetime64[ns]",
         "type": "datetime"
        },
        {
         "name": "From Bank",
         "rawType": "int64",
         "type": "integer"
        },
        {
         "name": "Account",
         "rawType": "object",
         "type": "string"
        },
        {
         "name": "To Bank",
         "rawType": "int64",
         "type": "integer"
        },
        {
         "name": "Account.1",
         "rawType": "object",
         "type": "string"
        },
        {
         "name": "Amount Received",
         "rawType": "float64",
         "type": "float"
        },
        {
         "name": "Amount Paid",
         "rawType": "float64",
         "type": "float"
        },
        {
         "name": "Is Laundering",
         "rawType": "int64",
         "type": "integer"
        },
        {
         "name": "Hour",
         "rawType": "int32",
         "type": "integer"
        },
        {
         "name": "Payment Format_Bitcoin",
         "rawType": "int64",
         "type": "integer"
        },
        {
         "name": "Payment Format_Cash",
         "rawType": "int64",
         "type": "integer"
        },
        {
         "name": "Payment Format_Cheque",
         "rawType": "int64",
         "type": "integer"
        },
        {
         "name": "Payment Format_Credit Card",
         "rawType": "int64",
         "type": "integer"
        },
        {
         "name": "Payment Format_Reinvestment",
         "rawType": "int64",
         "type": "integer"
        },
        {
         "name": "Payment Format_Wire",
         "rawType": "int64",
         "type": "integer"
        },
        {
         "name": "Payment Currency_Bitcoin",
         "rawType": "int64",
         "type": "integer"
        },
        {
         "name": "Payment Currency_Brazil Real",
         "rawType": "int64",
         "type": "integer"
        },
        {
         "name": "Payment Currency_Canadian Dollar",
         "rawType": "int64",
         "type": "integer"
        },
        {
         "name": "Payment Currency_Euro",
         "rawType": "int64",
         "type": "integer"
        },
        {
         "name": "Payment Currency_Mexican Peso",
         "rawType": "int64",
         "type": "integer"
        },
        {
         "name": "Payment Currency_Ruble",
         "rawType": "int64",
         "type": "integer"
        },
        {
         "name": "Payment Currency_Rupee",
         "rawType": "int64",
         "type": "integer"
        },
        {
         "name": "Payment Currency_Saudi Riyal",
         "rawType": "int64",
         "type": "integer"
        },
        {
         "name": "Payment Currency_Shekel",
         "rawType": "int64",
         "type": "integer"
        },
        {
         "name": "Payment Currency_Swiss Franc",
         "rawType": "int64",
         "type": "integer"
        },
        {
         "name": "Payment Currency_UK Pound",
         "rawType": "int64",
         "type": "integer"
        },
        {
         "name": "Payment Currency_US Dollar",
         "rawType": "int64",
         "type": "integer"
        },
        {
         "name": "Payment Currency_Yen",
         "rawType": "int64",
         "type": "integer"
        },
        {
         "name": "Payment Currency_Yuan",
         "rawType": "int64",
         "type": "integer"
        },
        {
         "name": "Receiving Currency_Bitcoin",
         "rawType": "int64",
         "type": "integer"
        },
        {
         "name": "Receiving Currency_Brazil Real",
         "rawType": "int64",
         "type": "integer"
        },
        {
         "name": "Receiving Currency_Canadian Dollar",
         "rawType": "int64",
         "type": "integer"
        },
        {
         "name": "Receiving Currency_Euro",
         "rawType": "int64",
         "type": "integer"
        },
        {
         "name": "Receiving Currency_Mexican Peso",
         "rawType": "int64",
         "type": "integer"
        },
        {
         "name": "Receiving Currency_Ruble",
         "rawType": "int64",
         "type": "integer"
        },
        {
         "name": "Receiving Currency_Rupee",
         "rawType": "int64",
         "type": "integer"
        },
        {
         "name": "Receiving Currency_Saudi Riyal",
         "rawType": "int64",
         "type": "integer"
        },
        {
         "name": "Receiving Currency_Shekel",
         "rawType": "int64",
         "type": "integer"
        },
        {
         "name": "Receiving Currency_Swiss Franc",
         "rawType": "int64",
         "type": "integer"
        },
        {
         "name": "Receiving Currency_UK Pound",
         "rawType": "int64",
         "type": "integer"
        },
        {
         "name": "Receiving Currency_US Dollar",
         "rawType": "int64",
         "type": "integer"
        },
        {
         "name": "Receiving Currency_Yen",
         "rawType": "int64",
         "type": "integer"
        },
        {
         "name": "Receiving Currency_Yuan",
         "rawType": "int64",
         "type": "integer"
        }
       ],
       "conversionMethod": "pd.DataFrame",
       "ref": "e5d4bf18-efd1-4c69-9939-4b960c12c939",
       "rows": [
        [
         "732807",
         "2022-09-01 00:00:00",
         "228997",
         "83EF6B6E0",
         "228997",
         "83EF6B6E0",
         "16.93",
         "16.93",
         "0",
         "0",
         "0",
         "0",
         "0",
         "0",
         "1",
         "0",
         "0",
         "0",
         "0",
         "1",
         "0",
         "0",
         "0",
         "0",
         "0",
         "0",
         "0",
         "0",
         "0",
         "0",
         "0",
         "0",
         "0",
         "1",
         "0",
         "0",
         "0",
         "0",
         "0",
         "0",
         "0",
         "0",
         "0",
         "0"
        ],
        [
         "100418",
         "2022-09-01 00:00:00",
         "126794",
         "80E64ADF0",
         "126794",
         "80E64ADF0",
         "17.66",
         "17.66",
         "0",
         "0",
         "0",
         "0",
         "0",
         "0",
         "1",
         "0",
         "0",
         "0",
         "0",
         "0",
         "0",
         "0",
         "0",
         "0",
         "0",
         "0",
         "0",
         "1",
         "0",
         "0",
         "0",
         "0",
         "0",
         "0",
         "0",
         "0",
         "0",
         "0",
         "0",
         "0",
         "0",
         "1",
         "0",
         "0"
        ],
        [
         "1286274",
         "2022-09-01 00:00:00",
         "1201465",
         "84C736A10",
         "1201465",
         "84C736A10",
         "10902.56",
         "10902.56",
         "0",
         "0",
         "0",
         "0",
         "0",
         "0",
         "1",
         "0",
         "0",
         "0",
         "0",
         "0",
         "0",
         "0",
         "0",
         "1",
         "0",
         "0",
         "0",
         "0",
         "0",
         "0",
         "0",
         "0",
         "0",
         "0",
         "0",
         "0",
         "0",
         "1",
         "0",
         "0",
         "0",
         "0",
         "0",
         "0"
        ],
        [
         "422580",
         "2022-09-01 00:00:00",
         "110059",
         "8489FDF10",
         "110059",
         "8489FDF10",
         "358.57",
         "358.57",
         "0",
         "0",
         "0",
         "0",
         "0",
         "0",
         "1",
         "0",
         "0",
         "0",
         "0",
         "0",
         "0",
         "0",
         "0",
         "0",
         "0",
         "0",
         "0",
         "1",
         "0",
         "0",
         "0",
         "0",
         "0",
         "0",
         "0",
         "0",
         "0",
         "0",
         "0",
         "0",
         "0",
         "1",
         "0",
         "0"
        ],
        [
         "928974",
         "2022-09-01 00:00:00",
         "262126",
         "817AC32D0",
         "65994",
         "81A1FB180",
         "1785.3",
         "1785.3",
         "0",
         "0",
         "0",
         "0",
         "0",
         "1",
         "0",
         "0",
         "0",
         "0",
         "0",
         "0",
         "0",
         "0",
         "1",
         "0",
         "0",
         "0",
         "0",
         "0",
         "0",
         "0",
         "0",
         "0",
         "0",
         "0",
         "0",
         "0",
         "1",
         "0",
         "0",
         "0",
         "0",
         "0",
         "0",
         "0"
        ]
       ],
       "shape": {
        "columns": 43,
        "rows": 5
       }
      },
      "text/html": [
       "<div>\n",
       "<style scoped>\n",
       "    .dataframe tbody tr th:only-of-type {\n",
       "        vertical-align: middle;\n",
       "    }\n",
       "\n",
       "    .dataframe tbody tr th {\n",
       "        vertical-align: top;\n",
       "    }\n",
       "\n",
       "    .dataframe thead th {\n",
       "        text-align: right;\n",
       "    }\n",
       "</style>\n",
       "<table border=\"1\" class=\"dataframe\">\n",
       "  <thead>\n",
       "    <tr style=\"text-align: right;\">\n",
       "      <th></th>\n",
       "      <th>Timestamp</th>\n",
       "      <th>From Bank</th>\n",
       "      <th>Account</th>\n",
       "      <th>To Bank</th>\n",
       "      <th>Account.1</th>\n",
       "      <th>Amount Received</th>\n",
       "      <th>Amount Paid</th>\n",
       "      <th>Is Laundering</th>\n",
       "      <th>Hour</th>\n",
       "      <th>Payment Format_Bitcoin</th>\n",
       "      <th>...</th>\n",
       "      <th>Receiving Currency_Mexican Peso</th>\n",
       "      <th>Receiving Currency_Ruble</th>\n",
       "      <th>Receiving Currency_Rupee</th>\n",
       "      <th>Receiving Currency_Saudi Riyal</th>\n",
       "      <th>Receiving Currency_Shekel</th>\n",
       "      <th>Receiving Currency_Swiss Franc</th>\n",
       "      <th>Receiving Currency_UK Pound</th>\n",
       "      <th>Receiving Currency_US Dollar</th>\n",
       "      <th>Receiving Currency_Yen</th>\n",
       "      <th>Receiving Currency_Yuan</th>\n",
       "    </tr>\n",
       "  </thead>\n",
       "  <tbody>\n",
       "    <tr>\n",
       "      <th>732807</th>\n",
       "      <td>2022-09-01</td>\n",
       "      <td>228997</td>\n",
       "      <td>83EF6B6E0</td>\n",
       "      <td>228997</td>\n",
       "      <td>83EF6B6E0</td>\n",
       "      <td>16.93</td>\n",
       "      <td>16.93</td>\n",
       "      <td>0</td>\n",
       "      <td>0</td>\n",
       "      <td>0</td>\n",
       "      <td>...</td>\n",
       "      <td>0</td>\n",
       "      <td>0</td>\n",
       "      <td>0</td>\n",
       "      <td>0</td>\n",
       "      <td>0</td>\n",
       "      <td>0</td>\n",
       "      <td>0</td>\n",
       "      <td>0</td>\n",
       "      <td>0</td>\n",
       "      <td>0</td>\n",
       "    </tr>\n",
       "    <tr>\n",
       "      <th>100418</th>\n",
       "      <td>2022-09-01</td>\n",
       "      <td>126794</td>\n",
       "      <td>80E64ADF0</td>\n",
       "      <td>126794</td>\n",
       "      <td>80E64ADF0</td>\n",
       "      <td>17.66</td>\n",
       "      <td>17.66</td>\n",
       "      <td>0</td>\n",
       "      <td>0</td>\n",
       "      <td>0</td>\n",
       "      <td>...</td>\n",
       "      <td>0</td>\n",
       "      <td>0</td>\n",
       "      <td>0</td>\n",
       "      <td>0</td>\n",
       "      <td>0</td>\n",
       "      <td>0</td>\n",
       "      <td>0</td>\n",
       "      <td>1</td>\n",
       "      <td>0</td>\n",
       "      <td>0</td>\n",
       "    </tr>\n",
       "    <tr>\n",
       "      <th>1286274</th>\n",
       "      <td>2022-09-01</td>\n",
       "      <td>1201465</td>\n",
       "      <td>84C736A10</td>\n",
       "      <td>1201465</td>\n",
       "      <td>84C736A10</td>\n",
       "      <td>10902.56</td>\n",
       "      <td>10902.56</td>\n",
       "      <td>0</td>\n",
       "      <td>0</td>\n",
       "      <td>0</td>\n",
       "      <td>...</td>\n",
       "      <td>0</td>\n",
       "      <td>0</td>\n",
       "      <td>0</td>\n",
       "      <td>1</td>\n",
       "      <td>0</td>\n",
       "      <td>0</td>\n",
       "      <td>0</td>\n",
       "      <td>0</td>\n",
       "      <td>0</td>\n",
       "      <td>0</td>\n",
       "    </tr>\n",
       "    <tr>\n",
       "      <th>422580</th>\n",
       "      <td>2022-09-01</td>\n",
       "      <td>110059</td>\n",
       "      <td>8489FDF10</td>\n",
       "      <td>110059</td>\n",
       "      <td>8489FDF10</td>\n",
       "      <td>358.57</td>\n",
       "      <td>358.57</td>\n",
       "      <td>0</td>\n",
       "      <td>0</td>\n",
       "      <td>0</td>\n",
       "      <td>...</td>\n",
       "      <td>0</td>\n",
       "      <td>0</td>\n",
       "      <td>0</td>\n",
       "      <td>0</td>\n",
       "      <td>0</td>\n",
       "      <td>0</td>\n",
       "      <td>0</td>\n",
       "      <td>1</td>\n",
       "      <td>0</td>\n",
       "      <td>0</td>\n",
       "    </tr>\n",
       "    <tr>\n",
       "      <th>928974</th>\n",
       "      <td>2022-09-01</td>\n",
       "      <td>262126</td>\n",
       "      <td>817AC32D0</td>\n",
       "      <td>65994</td>\n",
       "      <td>81A1FB180</td>\n",
       "      <td>1785.30</td>\n",
       "      <td>1785.30</td>\n",
       "      <td>0</td>\n",
       "      <td>0</td>\n",
       "      <td>0</td>\n",
       "      <td>...</td>\n",
       "      <td>0</td>\n",
       "      <td>0</td>\n",
       "      <td>1</td>\n",
       "      <td>0</td>\n",
       "      <td>0</td>\n",
       "      <td>0</td>\n",
       "      <td>0</td>\n",
       "      <td>0</td>\n",
       "      <td>0</td>\n",
       "      <td>0</td>\n",
       "    </tr>\n",
       "  </tbody>\n",
       "</table>\n",
       "<p>5 rows × 43 columns</p>\n",
       "</div>"
      ],
      "text/plain": [
       "         Timestamp  From Bank    Account  To Bank  Account.1  Amount Received  \\\n",
       "732807  2022-09-01     228997  83EF6B6E0   228997  83EF6B6E0            16.93   \n",
       "100418  2022-09-01     126794  80E64ADF0   126794  80E64ADF0            17.66   \n",
       "1286274 2022-09-01    1201465  84C736A10  1201465  84C736A10         10902.56   \n",
       "422580  2022-09-01     110059  8489FDF10   110059  8489FDF10           358.57   \n",
       "928974  2022-09-01     262126  817AC32D0    65994  81A1FB180          1785.30   \n",
       "\n",
       "         Amount Paid  Is Laundering  Hour  Payment Format_Bitcoin  ...  \\\n",
       "732807         16.93              0     0                       0  ...   \n",
       "100418         17.66              0     0                       0  ...   \n",
       "1286274     10902.56              0     0                       0  ...   \n",
       "422580        358.57              0     0                       0  ...   \n",
       "928974       1785.30              0     0                       0  ...   \n",
       "\n",
       "         Receiving Currency_Mexican Peso  Receiving Currency_Ruble  \\\n",
       "732807                                 0                         0   \n",
       "100418                                 0                         0   \n",
       "1286274                                0                         0   \n",
       "422580                                 0                         0   \n",
       "928974                                 0                         0   \n",
       "\n",
       "         Receiving Currency_Rupee  Receiving Currency_Saudi Riyal  \\\n",
       "732807                          0                               0   \n",
       "100418                          0                               0   \n",
       "1286274                         0                               1   \n",
       "422580                          0                               0   \n",
       "928974                          1                               0   \n",
       "\n",
       "         Receiving Currency_Shekel  Receiving Currency_Swiss Franc  \\\n",
       "732807                           0                               0   \n",
       "100418                           0                               0   \n",
       "1286274                          0                               0   \n",
       "422580                           0                               0   \n",
       "928974                           0                               0   \n",
       "\n",
       "         Receiving Currency_UK Pound  Receiving Currency_US Dollar  \\\n",
       "732807                             0                             0   \n",
       "100418                             0                             1   \n",
       "1286274                            0                             0   \n",
       "422580                             0                             1   \n",
       "928974                             0                             0   \n",
       "\n",
       "         Receiving Currency_Yen  Receiving Currency_Yuan  \n",
       "732807                        0                        0  \n",
       "100418                        0                        0  \n",
       "1286274                       0                        0  \n",
       "422580                        0                        0  \n",
       "928974                        0                        0  \n",
       "\n",
       "[5 rows x 43 columns]"
      ]
     },
     "execution_count": 36,
     "metadata": {},
     "output_type": "execute_result"
    }
   ],
   "source": [
    "#Encoding the for Payment Format, Payment Currency and Receiving Currency\n",
    "df_encoded = pd.get_dummies(df_balanced, columns=['Payment Format', 'Payment Currency', 'Receiving Currency'], drop_first=True)\n",
    "\n",
    "#Falso to 0 and True to 1\n",
    "df_encoded = df_encoded.replace({False: 0, True: 1})\n",
    "df_encoded.head()\n"
   ]
  },
  {
   "cell_type": "code",
   "execution_count": 37,
   "metadata": {},
   "outputs": [
    {
     "data": {
      "text/plain": [
       "(105690, 43)"
      ]
     },
     "execution_count": 37,
     "metadata": {},
     "output_type": "execute_result"
    }
   ],
   "source": [
    "df_encoded.shape"
   ]
  }
 ],
 "metadata": {
  "kernelspec": {
   "display_name": "ML",
   "language": "python",
   "name": "python3"
  },
  "language_info": {
   "codemirror_mode": {
    "name": "ipython",
    "version": 3
   },
   "file_extension": ".py",
   "mimetype": "text/x-python",
   "name": "python",
   "nbconvert_exporter": "python",
   "pygments_lexer": "ipython3",
   "version": "3.10.16"
  }
 },
 "nbformat": 4,
 "nbformat_minor": 2
}
