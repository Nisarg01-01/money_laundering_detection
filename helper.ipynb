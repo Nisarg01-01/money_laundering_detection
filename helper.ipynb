{
 "cells": [
  {
   "cell_type": "code",
   "execution_count": 10,
   "id": "8db82b4c-3eb5-44f3-9c58-72d9a9d76b18",
   "metadata": {},
   "outputs": [],
   "source": [
    "import pandas as pd\n",
    "from tqdm import tqdm"
   ]
  },
  {
   "cell_type": "code",
   "execution_count": 11,
   "id": "b666f8c3-9df2-433f-8bdf-982f12617414",
   "metadata": {},
   "outputs": [],
   "source": [
    "txt_file = \"./data/Hi-small_Patterns.txt\"\n",
    "csv_file = \"./data/HI-Small_Trans.csv\""
   ]
  },
  {
   "cell_type": "code",
   "execution_count": 12,
   "id": "4bf9b26b-9736-4eca-9390-51ebd09b177d",
   "metadata": {},
   "outputs": [],
   "source": [
    "df = pd.read_csv(csv_file)"
   ]
  },
  {
   "cell_type": "code",
   "execution_count": 13,
   "id": "5e9bdd34-a6e2-4aa7-ab12-673f2a1dd022",
   "metadata": {},
   "outputs": [],
   "source": [
    "txt_lines = open(txt_file, \"r\").read()"
   ]
  },
  {
   "cell_type": "code",
   "execution_count": 14,
   "id": "b3d141fb-0502-481a-ac67-cefa8ec7c6ca",
   "metadata": {},
   "outputs": [],
   "source": [
    "laundering_patterns = txt_lines.split(\"BEGIN\")"
   ]
  },
  {
   "cell_type": "code",
   "execution_count": 8,
   "id": "c2516855-3272-493e-b511-21090f3f2045",
   "metadata": {},
   "outputs": [],
   "source": [
    "df['laundering_pattern'] = ['' for _ in range(len(df))]"
   ]
  },
  {
   "cell_type": "code",
   "execution_count": 16,
   "id": "5ec0309d-f4b4-4c84-8777-b69bfb5769d8",
   "metadata": {},
   "outputs": [
    {
     "name": "stderr",
     "output_type": "stream",
     "text": [
      "5078345it [01:23, 60895.99it/s]\n"
     ]
    }
   ],
   "source": [
    "trans_dict = {}\n",
    "\n",
    "for idx, row in tqdm(df.iterrows()):\n",
    "    from_account = row[\"Account\"]\n",
    "    to_account = row[\"Account.1\"]\n",
    "\n",
    "    trans_dict[f\"{from_account}_{to_account}\"] = idx\n"
   ]
  },
  {
   "cell_type": "code",
   "execution_count": 67,
   "id": "0d6b5956-94a1-49e3-b81e-61625782e73d",
   "metadata": {},
   "outputs": [
    {
     "name": "stderr",
     "output_type": "stream",
     "text": [
      "100%|███████████████████████████████████████| 371/371 [00:00<00:00, 1659.41it/s]\n"
     ]
    }
   ],
   "source": [
    "for pattern in tqdm(laundering_patterns):\n",
    "    transactions = pattern.split('\\n')\n",
    "    transactions_pattern = transactions[0].split(' ')[-1]\n",
    "    for trans in transactions[1:]:\n",
    "        if trans[:3] == 'END':\n",
    "            break\n",
    "        from_account = trans.split(',')[2]\n",
    "        to_account = trans.split(',')[4]\n",
    "        key = f\"{from_account}_{to_account}\"\n",
    "        df.loc[trans_dict[key], 'laundering_pattern'] = transactions_pattern     "
   ]
  },
  {
   "cell_type": "code",
   "execution_count": null,
   "id": "62337a78-1124-409a-b9ed-1e95a031d7bf",
   "metadata": {},
   "outputs": [],
   "source": []
  }
 ],
 "metadata": {
  "kernelspec": {
   "display_name": "globalpython",
   "language": "python",
   "name": "globalpython"
  },
  "language_info": {
   "codemirror_mode": {
    "name": "ipython",
    "version": 3
   },
   "file_extension": ".py",
   "mimetype": "text/x-python",
   "name": "python",
   "nbconvert_exporter": "python",
   "pygments_lexer": "ipython3",
   "version": "3.10.7"
  }
 },
 "nbformat": 4,
 "nbformat_minor": 5
}
