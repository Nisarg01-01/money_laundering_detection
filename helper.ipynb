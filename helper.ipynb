{
 "cells": [
  {
   "cell_type": "code",
   "execution_count": 53,
   "id": "8db82b4c-3eb5-44f3-9c58-72d9a9d76b18",
   "metadata": {},
   "outputs": [],
   "source": [
    "import pandas as pd\n",
    "from tqdm import tqdm"
   ]
  },
  {
   "cell_type": "code",
   "execution_count": 66,
   "id": "b666f8c3-9df2-433f-8bdf-982f12617414",
   "metadata": {},
   "outputs": [],
   "source": [
    "txt_file = \"./data/Hi-small_Patterns.txt\"\n",
    "csv_file = \"./data/HI-Small_Trans.csv\"\n",
    "\n",
    "output_csv = \"./HI-small_patterns_with_categorical.csv\""
   ]
  },
  {
   "cell_type": "code",
   "execution_count": 68,
   "id": "4bf9b26b-9736-4eca-9390-51ebd09b177d",
   "metadata": {},
   "outputs": [],
   "source": [
    "df_original = pd.read_csv(csv_file)"
   ]
  },
  {
   "cell_type": "code",
   "execution_count": 56,
   "id": "5e9bdd34-a6e2-4aa7-ab12-673f2a1dd022",
   "metadata": {},
   "outputs": [],
   "source": [
    "txt_lines = open(txt_file, \"r\").read()"
   ]
  },
  {
   "cell_type": "code",
   "execution_count": 57,
   "id": "b3d141fb-0502-481a-ac67-cefa8ec7c6ca",
   "metadata": {},
   "outputs": [],
   "source": [
    "laundering_patterns = txt_lines.split(\"BEGIN\")"
   ]
  },
  {
   "cell_type": "code",
   "execution_count": 58,
   "id": "c2516855-3272-493e-b511-21090f3f2045",
   "metadata": {},
   "outputs": [],
   "source": [
    "df_original['laundering_pattern'] = ['' for _ in range(len(df_original))]"
   ]
  },
  {
   "cell_type": "code",
   "execution_count": 69,
   "id": "5ec0309d-f4b4-4c84-8777-b69bfb5769d8",
   "metadata": {},
   "outputs": [
    {
     "name": "stderr",
     "output_type": "stream",
     "text": [
      "5078345it [01:34, 53932.33it/s]\n"
     ]
    }
   ],
   "source": [
    "trans_dict = {}\n",
    "\n",
    "for idx, row in tqdm(df_original.iterrows()):\n",
    "    from_account = row[\"Account\"]\n",
    "    to_account = row[\"Account.1\"]\n",
    "    time_stamp = row[\"Timestamp\"]\n",
    "\n",
    "    trans_dict[f\"{from_account}_{to_account}_{time_stamp}\"] = idx\n"
   ]
  },
  {
   "cell_type": "code",
   "execution_count": 70,
   "id": "0d6b5956-94a1-49e3-b81e-61625782e73d",
   "metadata": {},
   "outputs": [
    {
     "name": "stderr",
     "output_type": "stream",
     "text": [
      "100%|███████████████████████████████████████| 371/371 [00:00<00:00, 1920.20it/s]\n"
     ]
    }
   ],
   "source": [
    "for pattern in tqdm(laundering_patterns):\n",
    "    transactions = pattern.split('\\n')\n",
    "    transactions_pattern = transactions[0].split(' ')[-1]\n",
    "    for trans in transactions[1:]:\n",
    "        if trans[:3] == 'END':\n",
    "            break\n",
    "        from_account = trans.split(',')[2]\n",
    "        to_account = trans.split(',')[4]\n",
    "        time_stamp = trans.split(',')[0]\n",
    "        key = f\"{from_account}_{to_account}_{time_stamp}\"\n",
    "        df_original.loc[trans_dict[key], 'laundering_pattern'] = transactions_pattern     "
   ]
  },
  {
   "cell_type": "code",
   "execution_count": 71,
   "id": "1d5edd33-0a52-437c-b031-5c2d1def0bae",
   "metadata": {},
   "outputs": [],
   "source": [
    "df_original.to_csv(output_csv)"
   ]
  },
  {
   "cell_type": "code",
   "execution_count": 72,
   "id": "8c3032dd-dcc8-48d5-b480-934bcf7d5fed",
   "metadata": {},
   "outputs": [
    {
     "name": "stderr",
     "output_type": "stream",
     "text": [
      "/var/folders/bl/v1vnq6z91qzg_fw0hf90bj0r0000gn/T/ipykernel_6858/2482976158.py:1: DtypeWarning: Columns (12) have mixed types. Specify dtype option on import or set low_memory=False.\n",
      "  output_df = pd.read_csv(output_csv)\n"
     ]
    }
   ],
   "source": [
    "output_df = pd.read_csv(output_csv)"
   ]
  },
  {
   "cell_type": "code",
   "execution_count": 74,
   "id": "fef20fd6-7245-4060-b3f9-ea32356fe4ae",
   "metadata": {},
   "outputs": [
    {
     "data": {
      "text/plain": [
       "5075136"
      ]
     },
     "execution_count": 74,
     "metadata": {},
     "output_type": "execute_result"
    }
   ],
   "source": [
    "output_df[\"laundering_pattern\"].isnull().sum()"
   ]
  },
  {
   "cell_type": "code",
   "execution_count": 75,
   "id": "facc54fd-7c16-4e6f-960f-804c77991374",
   "metadata": {},
   "outputs": [
    {
     "data": {
      "text/html": [
       "<div>\n",
       "<style scoped>\n",
       "    .dataframe tbody tr th:only-of-type {\n",
       "        vertical-align: middle;\n",
       "    }\n",
       "\n",
       "    .dataframe tbody tr th {\n",
       "        vertical-align: top;\n",
       "    }\n",
       "\n",
       "    .dataframe thead th {\n",
       "        text-align: right;\n",
       "    }\n",
       "</style>\n",
       "<table border=\"1\" class=\"dataframe\">\n",
       "  <thead>\n",
       "    <tr style=\"text-align: right;\">\n",
       "      <th></th>\n",
       "      <th>Timestamp</th>\n",
       "      <th>From Bank</th>\n",
       "      <th>Account</th>\n",
       "      <th>To Bank</th>\n",
       "      <th>Account.1</th>\n",
       "      <th>Amount Received</th>\n",
       "      <th>Receiving Currency</th>\n",
       "      <th>Amount Paid</th>\n",
       "      <th>Payment Currency</th>\n",
       "      <th>Payment Format</th>\n",
       "      <th>Is Laundering</th>\n",
       "      <th>laundering_pattern</th>\n",
       "    </tr>\n",
       "  </thead>\n",
       "  <tbody>\n",
       "    <tr>\n",
       "      <th>0</th>\n",
       "      <td>2022/09/01 00:20</td>\n",
       "      <td>10</td>\n",
       "      <td>8000EBD30</td>\n",
       "      <td>10</td>\n",
       "      <td>8000EBD30</td>\n",
       "      <td>3697.340000</td>\n",
       "      <td>US Dollar</td>\n",
       "      <td>3697.340000</td>\n",
       "      <td>US Dollar</td>\n",
       "      <td>Reinvestment</td>\n",
       "      <td>0</td>\n",
       "      <td>NaN</td>\n",
       "    </tr>\n",
       "    <tr>\n",
       "      <th>1</th>\n",
       "      <td>2022/09/01 00:20</td>\n",
       "      <td>3208</td>\n",
       "      <td>8000F4580</td>\n",
       "      <td>1</td>\n",
       "      <td>8000F5340</td>\n",
       "      <td>0.010000</td>\n",
       "      <td>US Dollar</td>\n",
       "      <td>0.010000</td>\n",
       "      <td>US Dollar</td>\n",
       "      <td>Cheque</td>\n",
       "      <td>0</td>\n",
       "      <td>NaN</td>\n",
       "    </tr>\n",
       "    <tr>\n",
       "      <th>2</th>\n",
       "      <td>2022/09/01 00:00</td>\n",
       "      <td>3209</td>\n",
       "      <td>8000F4670</td>\n",
       "      <td>3209</td>\n",
       "      <td>8000F4670</td>\n",
       "      <td>14675.570000</td>\n",
       "      <td>US Dollar</td>\n",
       "      <td>14675.570000</td>\n",
       "      <td>US Dollar</td>\n",
       "      <td>Reinvestment</td>\n",
       "      <td>0</td>\n",
       "      <td>NaN</td>\n",
       "    </tr>\n",
       "    <tr>\n",
       "      <th>3</th>\n",
       "      <td>2022/09/01 00:02</td>\n",
       "      <td>12</td>\n",
       "      <td>8000F5030</td>\n",
       "      <td>12</td>\n",
       "      <td>8000F5030</td>\n",
       "      <td>2806.970000</td>\n",
       "      <td>US Dollar</td>\n",
       "      <td>2806.970000</td>\n",
       "      <td>US Dollar</td>\n",
       "      <td>Reinvestment</td>\n",
       "      <td>0</td>\n",
       "      <td>NaN</td>\n",
       "    </tr>\n",
       "    <tr>\n",
       "      <th>4</th>\n",
       "      <td>2022/09/01 00:06</td>\n",
       "      <td>10</td>\n",
       "      <td>8000F5200</td>\n",
       "      <td>10</td>\n",
       "      <td>8000F5200</td>\n",
       "      <td>36682.970000</td>\n",
       "      <td>US Dollar</td>\n",
       "      <td>36682.970000</td>\n",
       "      <td>US Dollar</td>\n",
       "      <td>Reinvestment</td>\n",
       "      <td>0</td>\n",
       "      <td>NaN</td>\n",
       "    </tr>\n",
       "    <tr>\n",
       "      <th>...</th>\n",
       "      <td>...</td>\n",
       "      <td>...</td>\n",
       "      <td>...</td>\n",
       "      <td>...</td>\n",
       "      <td>...</td>\n",
       "      <td>...</td>\n",
       "      <td>...</td>\n",
       "      <td>...</td>\n",
       "      <td>...</td>\n",
       "      <td>...</td>\n",
       "      <td>...</td>\n",
       "      <td>...</td>\n",
       "    </tr>\n",
       "    <tr>\n",
       "      <th>5078340</th>\n",
       "      <td>2022/09/10 23:57</td>\n",
       "      <td>54219</td>\n",
       "      <td>8148A6631</td>\n",
       "      <td>256398</td>\n",
       "      <td>8148A8711</td>\n",
       "      <td>0.154978</td>\n",
       "      <td>Bitcoin</td>\n",
       "      <td>0.154978</td>\n",
       "      <td>Bitcoin</td>\n",
       "      <td>Bitcoin</td>\n",
       "      <td>0</td>\n",
       "      <td>NaN</td>\n",
       "    </tr>\n",
       "    <tr>\n",
       "      <th>5078341</th>\n",
       "      <td>2022/09/10 23:35</td>\n",
       "      <td>15</td>\n",
       "      <td>8148A8671</td>\n",
       "      <td>256398</td>\n",
       "      <td>8148A8711</td>\n",
       "      <td>0.108128</td>\n",
       "      <td>Bitcoin</td>\n",
       "      <td>0.108128</td>\n",
       "      <td>Bitcoin</td>\n",
       "      <td>Bitcoin</td>\n",
       "      <td>0</td>\n",
       "      <td>NaN</td>\n",
       "    </tr>\n",
       "    <tr>\n",
       "      <th>5078342</th>\n",
       "      <td>2022/09/10 23:52</td>\n",
       "      <td>154365</td>\n",
       "      <td>8148A6771</td>\n",
       "      <td>256398</td>\n",
       "      <td>8148A8711</td>\n",
       "      <td>0.004988</td>\n",
       "      <td>Bitcoin</td>\n",
       "      <td>0.004988</td>\n",
       "      <td>Bitcoin</td>\n",
       "      <td>Bitcoin</td>\n",
       "      <td>0</td>\n",
       "      <td>NaN</td>\n",
       "    </tr>\n",
       "    <tr>\n",
       "      <th>5078343</th>\n",
       "      <td>2022/09/10 23:46</td>\n",
       "      <td>256398</td>\n",
       "      <td>8148A6311</td>\n",
       "      <td>256398</td>\n",
       "      <td>8148A8711</td>\n",
       "      <td>0.038417</td>\n",
       "      <td>Bitcoin</td>\n",
       "      <td>0.038417</td>\n",
       "      <td>Bitcoin</td>\n",
       "      <td>Bitcoin</td>\n",
       "      <td>0</td>\n",
       "      <td>NaN</td>\n",
       "    </tr>\n",
       "    <tr>\n",
       "      <th>5078344</th>\n",
       "      <td>2022/09/10 23:37</td>\n",
       "      <td>154518</td>\n",
       "      <td>8148A6091</td>\n",
       "      <td>256398</td>\n",
       "      <td>8148A8711</td>\n",
       "      <td>0.281983</td>\n",
       "      <td>Bitcoin</td>\n",
       "      <td>0.281983</td>\n",
       "      <td>Bitcoin</td>\n",
       "      <td>Bitcoin</td>\n",
       "      <td>0</td>\n",
       "      <td>NaN</td>\n",
       "    </tr>\n",
       "  </tbody>\n",
       "</table>\n",
       "<p>5078345 rows × 12 columns</p>\n",
       "</div>"
      ],
      "text/plain": [
       "                Timestamp  From Bank    Account  To Bank  Account.1   \n",
       "0        2022/09/01 00:20         10  8000EBD30       10  8000EBD30  \\\n",
       "1        2022/09/01 00:20       3208  8000F4580        1  8000F5340   \n",
       "2        2022/09/01 00:00       3209  8000F4670     3209  8000F4670   \n",
       "3        2022/09/01 00:02         12  8000F5030       12  8000F5030   \n",
       "4        2022/09/01 00:06         10  8000F5200       10  8000F5200   \n",
       "...                   ...        ...        ...      ...        ...   \n",
       "5078340  2022/09/10 23:57      54219  8148A6631   256398  8148A8711   \n",
       "5078341  2022/09/10 23:35         15  8148A8671   256398  8148A8711   \n",
       "5078342  2022/09/10 23:52     154365  8148A6771   256398  8148A8711   \n",
       "5078343  2022/09/10 23:46     256398  8148A6311   256398  8148A8711   \n",
       "5078344  2022/09/10 23:37     154518  8148A6091   256398  8148A8711   \n",
       "\n",
       "         Amount Received Receiving Currency   Amount Paid Payment Currency   \n",
       "0            3697.340000          US Dollar   3697.340000        US Dollar  \\\n",
       "1               0.010000          US Dollar      0.010000        US Dollar   \n",
       "2           14675.570000          US Dollar  14675.570000        US Dollar   \n",
       "3            2806.970000          US Dollar   2806.970000        US Dollar   \n",
       "4           36682.970000          US Dollar  36682.970000        US Dollar   \n",
       "...                  ...                ...           ...              ...   \n",
       "5078340         0.154978            Bitcoin      0.154978          Bitcoin   \n",
       "5078341         0.108128            Bitcoin      0.108128          Bitcoin   \n",
       "5078342         0.004988            Bitcoin      0.004988          Bitcoin   \n",
       "5078343         0.038417            Bitcoin      0.038417          Bitcoin   \n",
       "5078344         0.281983            Bitcoin      0.281983          Bitcoin   \n",
       "\n",
       "        Payment Format  Is Laundering laundering_pattern  \n",
       "0         Reinvestment              0                NaN  \n",
       "1               Cheque              0                NaN  \n",
       "2         Reinvestment              0                NaN  \n",
       "3         Reinvestment              0                NaN  \n",
       "4         Reinvestment              0                NaN  \n",
       "...                ...            ...                ...  \n",
       "5078340        Bitcoin              0                NaN  \n",
       "5078341        Bitcoin              0                NaN  \n",
       "5078342        Bitcoin              0                NaN  \n",
       "5078343        Bitcoin              0                NaN  \n",
       "5078344        Bitcoin              0                NaN  \n",
       "\n",
       "[5078345 rows x 12 columns]"
      ]
     },
     "execution_count": 75,
     "metadata": {},
     "output_type": "execute_result"
    }
   ],
   "source": [
    "df_original"
   ]
  },
  {
   "cell_type": "code",
   "execution_count": 76,
   "id": "8e94bf80-dd49-4200-96cb-1c9e68df6b8c",
   "metadata": {},
   "outputs": [
    {
     "data": {
      "text/plain": [
       "3209"
      ]
     },
     "execution_count": 76,
     "metadata": {},
     "output_type": "execute_result"
    }
   ],
   "source": [
    "5078345 - 5075136"
   ]
  },
  {
   "cell_type": "code",
   "execution_count": null,
   "id": "69551869-edc0-488a-974e-4730e696b21b",
   "metadata": {},
   "outputs": [],
   "source": []
  }
 ],
 "metadata": {
  "kernelspec": {
   "display_name": "globalpython",
   "language": "python",
   "name": "globalpython"
  },
  "language_info": {
   "codemirror_mode": {
    "name": "ipython",
    "version": 3
   },
   "file_extension": ".py",
   "mimetype": "text/x-python",
   "name": "python",
   "nbconvert_exporter": "python",
   "pygments_lexer": "ipython3",
   "version": "3.10.7"
  }
 },
 "nbformat": 4,
 "nbformat_minor": 5
}
