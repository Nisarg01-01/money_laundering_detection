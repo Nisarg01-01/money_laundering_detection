{
 "cells": [
  {
   "cell_type": "code",
   "execution_count": 1,
   "id": "8db82b4c-3eb5-44f3-9c58-72d9a9d76b18",
   "metadata": {},
   "outputs": [],
   "source": [
    "import pandas as pd\n",
    "from tqdm import tqdm"
   ]
  },
  {
   "cell_type": "code",
   "execution_count": 2,
   "id": "b666f8c3-9df2-433f-8bdf-982f12617414",
   "metadata": {},
   "outputs": [],
   "source": [
    "path = 'C:/Nisarg/Projects/AML/'\n",
    "\n",
    "txt_file = 'Hi-Small_Patterns.txt'\n",
    "csv_file = 'HI-Small_Trans.csv'\n",
    "\n",
    "output_csv = 'HI-small_patterns_with_categorical.csv'"
   ]
  },
  {
   "cell_type": "code",
   "execution_count": 3,
   "id": "4bf9b26b-9736-4eca-9390-51ebd09b177d",
   "metadata": {},
   "outputs": [],
   "source": [
    "df_original = pd.read_csv(path+csv_file)"
   ]
  },
  {
   "cell_type": "code",
   "execution_count": 4,
   "id": "5e9bdd34-a6e2-4aa7-ab12-673f2a1dd022",
   "metadata": {},
   "outputs": [],
   "source": [
    "txt_lines = open(path+txt_file, \"r\").read()"
   ]
  },
  {
   "cell_type": "code",
   "execution_count": 5,
   "id": "b3d141fb-0502-481a-ac67-cefa8ec7c6ca",
   "metadata": {},
   "outputs": [],
   "source": [
    "laundering_patterns = txt_lines.split(\"BEGIN\")"
   ]
  },
  {
   "cell_type": "code",
   "execution_count": 6,
   "id": "c2516855-3272-493e-b511-21090f3f2045",
   "metadata": {},
   "outputs": [],
   "source": [
    "df_original['laundering_pattern'] = ['' for _ in range(len(df_original))]\n",
    "df_original['ChainID'] = [0 for _ in range(len(df_original))]"
   ]
  },
  {
   "cell_type": "code",
   "execution_count": 7,
   "id": "5ec0309d-f4b4-4c84-8777-b69bfb5769d8",
   "metadata": {},
   "outputs": [
    {
     "name": "stderr",
     "output_type": "stream",
     "text": [
      "5078345it [02:35, 32589.88it/s]\n"
     ]
    }
   ],
   "source": [
    "trans_dict = {}\n",
    "\n",
    "for idx, row in tqdm(df_original.iterrows()):\n",
    "    from_account = row[\"Account\"]\n",
    "    to_account = row[\"Account.1\"]\n",
    "    time_stamp = row[\"Timestamp\"]\n",
    "\n",
    "    trans_dict[f\"{from_account}_{to_account}_{time_stamp}\"] = idx\n"
   ]
  },
  {
   "cell_type": "code",
   "execution_count": 12,
   "id": "0d6b5956-94a1-49e3-b81e-61625782e73d",
   "metadata": {},
   "outputs": [
    {
     "name": "stderr",
     "output_type": "stream",
     "text": [
      "100%|██████████| 371/371 [00:00<00:00, 623.05it/s]\n"
     ]
    }
   ],
   "source": [
    "chainID = 0\n",
    "\n",
    "for pattern in tqdm(laundering_patterns):\n",
    "    transactions = pattern.split('\\n')\n",
    "    transactions_pattern = transactions[0].split(' ')[-1]\n",
    "    for trans in transactions[1:]:\n",
    "        if trans[:3] == 'END':\n",
    "            break\n",
    "        from_account = trans.split(',')[2]\n",
    "        to_account = trans.split(',')[4]\n",
    "        time_stamp = trans.split(',')[0]\n",
    "        key = f\"{from_account}_{to_account}_{time_stamp}\"\n",
    "        df_original.loc[trans_dict[key], 'laundering_pattern'] = transactions_pattern\n",
    "        df_original.loc[trans_dict[key], 'ChainID'] = chainID\n",
    "    chainID += 1     "
   ]
  },
  {
   "cell_type": "code",
   "execution_count": 13,
   "id": "1d5edd33-0a52-437c-b031-5c2d1def0bae",
   "metadata": {},
   "outputs": [],
   "source": [
    "df_original.to_csv(output_csv)"
   ]
  },
  {
   "cell_type": "code",
   "execution_count": null,
   "id": "8c3032dd-dcc8-48d5-b480-934bcf7d5fed",
   "metadata": {},
   "outputs": [
    {
     "name": "stderr",
     "output_type": "stream",
     "text": [
      "C:\\Users\\nisar\\AppData\\Local\\Temp\\ipykernel_8328\\2376663266.py:1: DtypeWarning: Columns (12) have mixed types. Specify dtype option on import or set low_memory=False.\n",
      "  output_df = pd.read_csv(output_csv)\n"
     ]
    },
    {
     "name": "stdout",
     "output_type": "stream",
     "text": [
      "<bound method NDFrame.describe of          Unnamed: 0         Timestamp  From Bank    Account  To Bank  \\\n",
      "0                 0  2022/09/01 00:20         10  8000EBD30       10   \n",
      "1                 1  2022/09/01 00:20       3208  8000F4580        1   \n",
      "2                 2  2022/09/01 00:00       3209  8000F4670     3209   \n",
      "3                 3  2022/09/01 00:02         12  8000F5030       12   \n",
      "4                 4  2022/09/01 00:06         10  8000F5200       10   \n",
      "...             ...               ...        ...        ...      ...   \n",
      "5078340     5078340  2022/09/10 23:57      54219  8148A6631   256398   \n",
      "5078341     5078341  2022/09/10 23:35         15  8148A8671   256398   \n",
      "5078342     5078342  2022/09/10 23:52     154365  8148A6771   256398   \n",
      "5078343     5078343  2022/09/10 23:46     256398  8148A6311   256398   \n",
      "5078344     5078344  2022/09/10 23:37     154518  8148A6091   256398   \n",
      "\n",
      "         Account.1  Amount Received Receiving Currency   Amount Paid  \\\n",
      "0        8000EBD30      3697.340000          US Dollar   3697.340000   \n",
      "1        8000F5340         0.010000          US Dollar      0.010000   \n",
      "2        8000F4670     14675.570000          US Dollar  14675.570000   \n",
      "3        8000F5030      2806.970000          US Dollar   2806.970000   \n",
      "4        8000F5200     36682.970000          US Dollar  36682.970000   \n",
      "...            ...              ...                ...           ...   \n",
      "5078340  8148A8711         0.154978            Bitcoin      0.154978   \n",
      "5078341  8148A8711         0.108128            Bitcoin      0.108128   \n",
      "5078342  8148A8711         0.004988            Bitcoin      0.004988   \n",
      "5078343  8148A8711         0.038417            Bitcoin      0.038417   \n",
      "5078344  8148A8711         0.281983            Bitcoin      0.281983   \n",
      "\n",
      "        Payment Currency Payment Format  Is Laundering laundering_pattern  \\\n",
      "0              US Dollar   Reinvestment              0                NaN   \n",
      "1              US Dollar         Cheque              0                NaN   \n",
      "2              US Dollar   Reinvestment              0                NaN   \n",
      "3              US Dollar   Reinvestment              0                NaN   \n",
      "4              US Dollar   Reinvestment              0                NaN   \n",
      "...                  ...            ...            ...                ...   \n",
      "5078340          Bitcoin        Bitcoin              0                NaN   \n",
      "5078341          Bitcoin        Bitcoin              0                NaN   \n",
      "5078342          Bitcoin        Bitcoin              0                NaN   \n",
      "5078343          Bitcoin        Bitcoin              0                NaN   \n",
      "5078344          Bitcoin        Bitcoin              0                NaN   \n",
      "\n",
      "         ChainID  \n",
      "0              0  \n",
      "1              0  \n",
      "2              0  \n",
      "3              0  \n",
      "4              0  \n",
      "...          ...  \n",
      "5078340        0  \n",
      "5078341        0  \n",
      "5078342        0  \n",
      "5078343        0  \n",
      "5078344        0  \n",
      "\n",
      "[5078345 rows x 14 columns]>\n"
     ]
    }
   ],
   "source": [
    "output_df = pd.read_csv(output_csv)\n",
    "print(output_df)"
   ]
  }
 ],
 "metadata": {
  "kernelspec": {
   "display_name": "ML",
   "language": "python",
   "name": "python3"
  },
  "language_info": {
   "codemirror_mode": {
    "name": "ipython",
    "version": 3
   },
   "file_extension": ".py",
   "mimetype": "text/x-python",
   "name": "python",
   "nbconvert_exporter": "python",
   "pygments_lexer": "ipython3",
   "version": "3.10.16"
  }
 },
 "nbformat": 4,
 "nbformat_minor": 5
}
